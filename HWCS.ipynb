{
 "cells": [
  {
   "cell_type": "markdown",
   "id": "69abbe10",
   "metadata": {},
   "source": [
    "# Dataset Description and Features\n",
    "We have used handwritten notes for the dataset, mainly 100 per person. Each image will belong to one of three categories Mehdy, Umair, and Hasnain. Each image has been labeled i.e. author_img (100).jpg. Dataset when loaded in pandas will have two columns (features) mainly file_path and label."
   ]
  },
  {
   "cell_type": "markdown",
   "id": "9c9bc090",
   "metadata": {},
   "source": [
    "# Imported Libraries"
   ]
  },
  {
   "cell_type": "markdown",
   "id": "51c39575",
   "metadata": {},
   "source": [
    "Required to install:\n",
    "pip install numpy\n",
    "pip install pillow\n",
    "pip install matplot\n",
    "pip install seaborn\n",
    "pip install scikit-image\n",
    "pip install scikit-learn\n",
    "pip install torch\n",
    "pip install openyxl"
   ]
  },
  {
   "cell_type": "code",
   "execution_count": null,
   "id": "e1faefad",
   "metadata": {},
   "outputs": [],
   "source": []
  },
  {
   "cell_type": "code",
   "execution_count": null,
   "id": "037c9b1e",
   "metadata": {},
   "outputs": [],
   "source": []
  },
  {
   "cell_type": "code",
   "execution_count": 3,
   "id": "41249dfb",
   "metadata": {},
   "outputs": [],
   "source": [
    "import os\n",
    "import numpy as np\n",
    "from PIL import Image as Img, ImageOps\n",
    "import matplotlib.pyplot as plt\n",
    "import pandas as pd\n",
    "from IPython.display import display, Image\n",
    "import seaborn as sns\n",
    "import torch\n",
    "DEVICE = torch.device(\"cuda\" if torch.cuda.is_available() else \"cpu\")"
   ]
  },
  {
   "cell_type": "code",
   "execution_count": 5,
   "id": "043ef78b",
   "metadata": {},
   "outputs": [],
   "source": [
    "# Define the path to the dataset\n",
    "orignal_images_path = 'orignal_images/'\n",
    "\n",
    "# Define the path to the folder where the extracted 128x128 blocks will be saved\n",
    "dataset_path = 'Dataset/'\n",
    "\n",
    "# Create the extracted_blocks folder if it doesn't exist\n",
    "os.makedirs(dataset_path, exist_ok=True)\n",
    "\n"
   ]
  },
  {
   "cell_type": "code",
   "execution_count": null,
   "id": "0a1a048d",
   "metadata": {},
   "outputs": [],
   "source": [
    "# Function to pad grayscale images\n",
    "def pad_image(file_path, output_path, target_size=(550, 720)):\n",
    "    # Open the grayscale image\n",
    "    with Img.open(file_path) as grayscale_image:\n",
    "        # Perform padding to the target size\n",
    "        # Using ImageOps.pad to pad the image to the target size while maintaining the aspect ratio\n",
    "        padded_image = ImageOps.pad(grayscale_image, target_size, method=0, centering=(0.5, 0.5))\n",
    "        \n",
    "        # Construct the output file path in the padded_images folder\n",
    "        output_file_path = os.path.join(output_path, os.path.basename(file_path))\n",
    "        \n",
    "        # Save the padded image\n",
    "        padded_image.save(output_file_path)\n",
    "        \n",
    "        # Print a message indicating the file has been processed\n",
    "        print(f'Padded and saved {file_name} to {output_file_path}')\n",
    "        \n",
    "        return padded_image\n",
    "\n",
    "# Loop through each grayscale image file in the folder\n",
    "for file_name in os.listdir(dataset_path):\n",
    "    # Construct the file path\n",
    "    file_path = os.path.join(dataset_path, file_name)\n",
    "    \n",
    "    # Pad the grayscale image\n",
    "    pad_image(file_path, dataset_path)\n"
   ]
  },
  {
   "cell_type": "markdown",
   "id": "0f4838ec",
   "metadata": {},
   "source": [
    "# Center blocks "
   ]
  },
  {
   "cell_type": "code",
   "execution_count": null,
   "id": "e51fa3e6",
   "metadata": {},
   "outputs": [],
   "source": [
    "# Function to extract 192x192 blocks from the center of padded images\n",
    "def extract_center_block(file_path, output_path, block_size=192):\n",
    "    # Open the padded grayscale image\n",
    "    with Img.open(file_path) as padded_image:\n",
    "        # Get the original width and height of the image\n",
    "        width, height = padded_image.size\n",
    "        \n",
    "        # Calculate the top left coordinates of the center block\n",
    "        top_left_x = (width - block_size) // 2\n",
    "        top_left_y = (height - block_size) // 2\n",
    "        \n",
    "        # Extract a 128x128 block from the center of the image\n",
    "        center_block = padded_image.crop((top_left_x, top_left_y, top_left_x + block_size, top_left_y + block_size))\n",
    "        \n",
    "        # Construct the output file path in the extracted_blocks folder\n",
    "        output_file_path = os.path.join(output_path, os.path.basename(file_path))\n",
    "        \n",
    "        # Save the extracted block\n",
    "        center_block.save(output_file_path)\n",
    "        \n",
    "        # Print a message indicating the file has been processed\n",
    "        print(f'Extracted center block and saved {file_name} to {output_file_path}')\n",
    "        \n",
    "        return center_block\n",
    "\n",
    "# Loop through each padded image file in the folder\n",
    "for file_name in os.listdir(dataset_path):\n",
    "    # Construct the file path\n",
    "    file_path = os.path.join(dataset_path, file_name)\n",
    "    \n",
    "    # Extract 192x192 blocks from the center of the padded image\n",
    "    extract_center_block(file_path, dataset_path)\n"
   ]
  },
  {
   "cell_type": "code",
   "execution_count": null,
   "id": "d43f2416",
   "metadata": {},
   "outputs": [],
   "source": [
    "# Initialize an empty list to store data about each image\n",
    "data = []\n",
    "\n",
    "# Loop through each image file in the dataset folder\n",
    "for file_name in os.listdir(dataset_path):\n",
    "    # Check if the file has an image extension (e.g., .jpg,etc.)\n",
    "    if file_name.endswith(('.jpg')):\n",
    "        # Construct the full file path\n",
    "        file_path = os.path.join(dataset_path, file_name)\n",
    "        \n",
    "        # Extract the label from the file name\n",
    "        label = file_name.split('_')[0]\n",
    "        \n",
    "        # Append the file path and label to the data list\n",
    "        data.append({'file_path': file_path, 'label': label})\n",
    "\n",
    "# Create a pandas DataFrame from the data list\n",
    "df = pd.DataFrame(data)\n",
    "\n",
    "# Display the DataFrame\n",
    "print(\"\\nThe Dimensionality: \\n\",df.shape)\n",
    "\n",
    "# Get the shape of the DataFrame\n",
    "rows, columns = df.shape\n",
    "\n",
    "# Print the shape\n",
    "print(f\"The DataFrame has {rows} rows and {columns} columns.\")\n",
    "\n",
    "# Obtain descriptive statistics for numerical features in the DataFrame\n",
    "summary_statistics = df.describe()\n",
    "\n",
    "# Print the summary statistics\n",
    "print(\"\\nThe Descriptive statistics: \\n\",summary_statistics)\n",
    "\n",
    "print(\"\\nData Type: \\n\",df.dtypes)\n",
    "\n",
    "# Convert object columns to numeric types where possible\n",
    "df_numeric = df.apply(pd.to_numeric, errors='coerce')\n",
    "\n",
    "# Calculate IQR for numerical columns\n",
    "Q1 = df_numeric.quantile(0.25)\n",
    "Q3 = df_numeric.quantile(0.75)\n",
    "IQR = Q3 - Q1\n",
    "\n",
    "# Define the acceptable range\n",
    "lower_bound = Q1 - 1.5 * IQR\n",
    "upper_bound = Q3 + 1.5 * IQR\n",
    "\n",
    "# Identify outliers in the duplicate DataFrame\n",
    "outliers = ((df_numeric < lower_bound) | (df_numeric > upper_bound)).any(axis=1)\n",
    "\n",
    "# Print outliers from the original DataFrame\n",
    "print(\"\\nOutliers using IQR method:\\n\")\n",
    "print(df[outliers])\n"
   ]
  },
  {
   "cell_type": "markdown",
   "id": "cbe6debe",
   "metadata": {},
   "source": [
    "# Outliers and dtype conversion: \n",
    "In the above cell, we have tried to find the ouliers by converting the object type column into numeric and from the results we can deduce that there are no outliers in our dataset since the result of iqr method show empty dataframe. Since our dataset is purely categorial we do not need numeric columns and our dataset comprises on the label and file_path of the dataset which we created ourselves from the scratch, hence we do not have any undesireable missing values."
   ]
  },
  {
   "cell_type": "code",
   "execution_count": null,
   "id": "547d0461",
   "metadata": {},
   "outputs": [],
   "source": [
    "# Function to display an image from a DataFrame row\n",
    "def display_image(row):\n",
    "    # Get the file path from the DataFrame row\n",
    "    file_path = row['file_path']\n",
    "    \n",
    "    # Display the image\n",
    "    display(Image(filename=file_path, width=192, height=192))\n",
    "    \n",
    "    # Print the label of the image\n",
    "    print(f'Label: {row[\"label\"]}')\n",
    "\n",
    "# image in the DataFrame\n",
    "display_image(df.iloc[52])\n",
    "display_image(df.iloc[101])\n",
    "display_image(df.iloc[202])\n"
   ]
  },
  {
   "cell_type": "markdown",
   "id": "7d8f3f47",
   "metadata": {},
   "source": [
    "# Data Visualization with Matplotlib"
   ]
  },
  {
   "cell_type": "code",
   "execution_count": 39,
   "id": "401ab6a5",
   "metadata": {},
   "outputs": [
    {
     "data": {
      "image/png": "[encoded data removed]",
      "text/plain": [
       "<Figure size 1000x600 with 1 Axes>"
      ]
     },
     "metadata": {},
     "output_type": "display_data"
    },
    {
     "data": {
      "image/png": "[encoded data removed]",
      "text/plain": [
       "<Figure size 800x800 with 1 Axes>"
      ]
     },
     "metadata": {},
     "output_type": "display_data"
    }
   ],
   "source": [
    "# Set the plot style\n",
    "sns.set_style('whitegrid')\n",
    "\n",
    "# Create the bar chart (categorical graph)\n",
    "plt.figure(figsize=(10, 6))\n",
    "sns.countplot(data=df, x='label', palette='viridis')\n",
    "\n",
    "# Set the title and labels\n",
    "plt.title('Count of Each Label')\n",
    "plt.xlabel('Label')\n",
    "plt.ylabel('Count')\n",
    "\n",
    "# Show the plot\n",
    "plt.show()\n",
    "\n",
    "# Get the count of each label\n",
    "label_counts = df['label'].value_counts()\n",
    "\n",
    "# Create the pie chart\n",
    "plt.figure(figsize=(8, 8))\n",
    "plt.pie(label_counts, labels=label_counts.index, autopct='%1.1f%%', startangle=140)\n",
    "\n",
    "# Set the title\n",
    "plt.title('Distribution of Labels')\n",
    "\n",
    "# Show the plot\n",
    "plt.show()\n"
   ]
  },
  {
   "cell_type": "markdown",
   "id": "055b8360",
   "metadata": {},
   "source": [
    "# Methadology\n",
    "For our project, we have started by collecting a dataset comprising handwriting samples from three distinct categories: Umair, Hasnain, and Mehdy. These samples will encompass a variety of writing styles and variations to ensure comprehensive coverage. Subsequently, we will preprocess the data by normalizing or resizing the images, applying grayscale filtering to standardize the representation, and removing any noise or artifacts that may affect model performance. To ensure uniformity in input dimensions, we will pad the images and resize them to a standardized size, such as 192x192 pixels. Following data preprocessing, we will extract features using grey-scale filter (along with padding, resizing etc), which have proven effective in similar applications. Then, we will train a K-Nearest Neighbors (K-NN) classifier on the extracted features, tuning hyperparameters for optimal performance. Model evaluation will involve assessing performance metrics on a testing set to ensure robustness and generalization"
   ]
  },
  {
   "cell_type": "markdown",
   "id": "99f65d11",
   "metadata": {},
   "source": [
    "Applying GSCM"
   ]
  },
  {
   "cell_type": "code",
   "execution_count": 45,
   "id": "ca944695",
   "metadata": {},
   "outputs": [
    {
     "name": "stdout",
     "output_type": "stream",
     "text": [
      "              precision    recall  f1-score   support\n",
      "\n",
      "     hasnain       0.45      0.52      0.48        25\n",
      "       mehdy       0.56      0.45      0.50        20\n",
      "       umair       0.19      0.19      0.19        16\n",
      "\n",
      "    accuracy                           0.41        61\n",
      "   macro avg       0.40      0.39      0.39        61\n",
      "weighted avg       0.42      0.41      0.41        61\n",
      "\n"
     ]
    }
   ],
   "source": [
    "import os\n",
    "from PIL import Image\n",
    "from skimage.feature import graycomatrix, graycoprops\n",
    "import pandas as pd\n",
    "from sklearn.model_selection import train_test_split\n",
    "from sklearn.neighbors import KNeighborsClassifier\n",
    "from sklearn.metrics import classification_report\n",
    "\n",
    "# Step 1: Apply GLCM for texture analysis\n",
    "features = []\n",
    "labels = []\n",
    "for file_name in os.listdir(dataset_path):\n",
    "    file_path = os.path.join(dataset_path, file_name)\n",
    "    with Image.open(file_path) as image:\n",
    "        label = file_name.split('_')[0]\n",
    "        grayscale_image = image.convert('L')\n",
    "        grayscale_image_np = np.array(grayscale_image)\n",
    "        glcm = graycomatrix(grayscale_image_np, [1], [0], 256, symmetric=True, normed=True)\n",
    "        contrast = graycoprops(glcm, 'contrast')[0, 0]\n",
    "        dissimilarity = graycoprops(glcm, 'dissimilarity')[0, 0]\n",
    "        homogeneity = graycoprops(glcm, 'homogeneity')[0, 0]\n",
    "        energy = graycoprops(glcm, 'energy')[0, 0]\n",
    "        correlation = graycoprops(glcm, 'correlation')[0, 0]\n",
    "        features.append([contrast, dissimilarity, homogeneity, energy, correlation])\n",
    "        labels.append(label)  # You need to define how to get the label\n",
    "\n",
    "# Step 2: Save the features and labels into an Excel file\n",
    "df = pd.DataFrame(features, columns=['contrast', 'dissimilarity', 'homogeneity', 'energy', 'correlation'])\n",
    "df['label'] = labels\n",
    "df.to_excel('features.xlsx', index=False)\n",
    "\n",
    "# Step 3: Load the Excel file as a dataset\n",
    "df = pd.read_excel('features.xlsx')\n",
    "X = df.drop('label', axis=1)\n",
    "y = df['label']\n",
    "\n",
    "# Step 4: Apply KNN on the dataset\n",
    "X_train, X_test, y_train, y_test = train_test_split(X, y, test_size=0.2)\n",
    "knn = KNeighborsClassifier(n_neighbors=3)\n",
    "knn.fit(X_train, y_train)\n",
    "y_pred = knn.predict(X_test)\n",
    "\n",
    "print(classification_report(y_test, y_pred))"
   ]
  },
  {
   "cell_type": "code",
   "execution_count": 49,
   "id": "bf76df2b",
   "metadata": {},
   "outputs": [
    {
     "name": "stdout",
     "output_type": "stream",
     "text": [
      "['mehdy']\n"
     ]
    },
    {
     "name": "stderr",
     "output_type": "stream",
     "text": [
      "C:\\Users\\hasna\\anaconda3\\Lib\\site-packages\\sklearn\\base.py:464: UserWarning: X does not have valid feature names, but KNeighborsClassifier was fitted with feature names\n",
      "  warnings.warn(\n"
     ]
    }
   ],
   "source": [
    "#Now checking the model for a single image\n",
    "check_image = 'ToCheck/u.jpg'\n",
    "with Image.open(check_image) as image:\n",
    "    grayscale_image = image.convert('L')\n",
    "    grayscale_image_np = np.array(grayscale_image)\n",
    "    glcm = graycomatrix(grayscale_image_np, [1], [0], 256, symmetric=True, normed=True)\n",
    "    contrast = graycoprops(glcm, 'contrast')[0, 0]\n",
    "    dissimilarity = graycoprops(glcm, 'dissimilarity')[0, 0]\n",
    "    homogeneity = graycoprops(glcm, 'homogeneity')[0, 0]\n",
    "    energy = graycoprops(glcm, 'energy')[0, 0]\n",
    "    correlation = graycoprops(glcm, 'correlation')[0, 0]\n",
    "    features = [[contrast, dissimilarity, homogeneity, energy, correlation]]\n",
    "    print(knn.predict(features))\n"
   ]
  },
  {
   "cell_type": "code",
   "execution_count": 6,
   "id": "80434bbe",
   "metadata": {},
   "outputs": [
    {
     "name": "stdout",
     "output_type": "stream",
     "text": [
      "Best Parameters: {'metric': 'manhattan', 'n_neighbors': 5, 'weights': 'distance'}\n",
      "              precision    recall  f1-score   support\n",
      "\n",
      "     hasnain       0.73      0.80      0.76        20\n",
      "       mehdy       0.89      0.84      0.86        19\n",
      "       umair       0.76      0.73      0.74        22\n",
      "\n",
      "    accuracy                           0.79        61\n",
      "   macro avg       0.79      0.79      0.79        61\n",
      "weighted avg       0.79      0.79      0.79        61\n",
      "\n"
     ]
    },
    {
     "data": {
      "image/png": "[encoded data removed]",
      "text/plain": [
       "<Figure size 640x480 with 2 Axes>"
      ]
     },
     "metadata": {},
     "output_type": "display_data"
    }
   ],
   "source": [
    "import os\n",
    "import numpy as np\n",
    "from PIL import Image\n",
    "from skimage.feature import graycomatrix, graycoprops\n",
    "import pandas as pd\n",
    "from sklearn.model_selection import train_test_split, GridSearchCV\n",
    "from sklearn.neighbors import KNeighborsClassifier\n",
    "from sklearn.metrics import classification_report, confusion_matrix, ConfusionMatrixDisplay\n",
    "from sklearn.preprocessing import StandardScaler\n",
    "import matplotlib.pyplot as plt\n",
    "\n",
    "def extract_glcm_features(image_path):\n",
    "    with Image.open(image_path) as image:\n",
    "        grayscale_image = image.convert('L')\n",
    "        grayscale_image_np = np.array(grayscale_image)\n",
    "        glcm = graycomatrix(grayscale_image_np, [1], [0], 256, symmetric=True, normed=True)\n",
    "        contrast = graycoprops(glcm, 'contrast')[0, 0]\n",
    "        dissimilarity = graycoprops(glcm, 'dissimilarity')[0, 0]\n",
    "        homogeneity = graycoprops(glcm, 'homogeneity')[0, 0]\n",
    "        energy = graycoprops(glcm, 'energy')[0, 0]\n",
    "        correlation = graycoprops(glcm, 'correlation')[0, 0]\n",
    "        return [contrast, dissimilarity, homogeneity, energy, correlation]\n",
    "\n",
    "\n",
    "features = []\n",
    "labels = []\n",
    "for file_name in os.listdir(dataset_path):\n",
    "    file_path = os.path.join(dataset_path, file_name)\n",
    "    label = file_name.split('_')[0]\n",
    "    features.append(extract_glcm_features(file_path))\n",
    "    labels.append(label)\n",
    "\n",
    "df = pd.DataFrame(features, columns=['contrast', 'dissimilarity', 'homogeneity', 'energy', 'correlation'])\n",
    "df['label'] = labels\n",
    "df.to_excel('features.xlsx', index=False)\n",
    "\n",
    "\n",
    "df = pd.read_excel('features.xlsx')\n",
    "X = df.drop('label', axis=1)\n",
    "y = df['label']\n",
    "\n",
    "X_train, X_test, y_train, y_test = train_test_split(X, y, test_size=0.2, random_state=42)\n",
    "\n",
    "scaler = StandardScaler()\n",
    "X_train_scaled = scaler.fit_transform(X_train)\n",
    "X_test_scaled = scaler.transform(X_test)\n",
    "\n",
    "knn = KNeighborsClassifier()\n",
    "param_grid = {\n",
    "    'n_neighbors': [1, 3, 5, 7, 9, 11],  # Define the range of `n_neighbors` to test\n",
    "    'weights': ['uniform', 'distance'],  # Consider different weighting strategies\n",
    "    'metric': ['euclidean', 'manhattan']  # Try different distance metrics\n",
    "}\n",
    "grid_search = GridSearchCV(knn, param_grid, cv=5)\n",
    "grid_search.fit(X_train_scaled, y_train)\n",
    "\n",
    "print(f\"Best Parameters: {grid_search.best_params_}\")\n",
    "\n",
    "y_pred = grid_search.predict(X_test_scaled)\n",
    "\n",
    "print(classification_report(y_test, y_pred))\n",
    "\n",
    "cm = confusion_matrix(y_test, y_pred)\n",
    "disp = ConfusionMatrixDisplay(confusion_matrix=cm, display_labels=grid_search.classes_)\n",
    "disp.plot()\n",
    "plt.show()\n",
    "\n",
    "\n",
    "\n"
   ]
  },
  {
   "cell_type": "code",
   "execution_count": 18,
   "id": "4a018cf2",
   "metadata": {
    "scrolled": true
   },
   "outputs": [
    {
     "ename": "NameError",
     "evalue": "name 'feature_names' is not defined",
     "output_type": "error",
     "traceback": [
      "\u001b[1;31m---------------------------------------------------------------------------\u001b[0m",
      "\u001b[1;31mNameError\u001b[0m                                 Traceback (most recent call last)",
      "Cell \u001b[1;32mIn[18], line 9\u001b[0m\n\u001b[0;32m      6\u001b[0m     \u001b[38;5;28;01mreturn\u001b[39;00m prediction\n\u001b[0;32m      8\u001b[0m check_image_path \u001b[38;5;241m=\u001b[39m \u001b[38;5;124m'\u001b[39m\u001b[38;5;124mToCheck/u.jpg\u001b[39m\u001b[38;5;124m'\u001b[39m\n\u001b[1;32m----> 9\u001b[0m predicted_label \u001b[38;5;241m=\u001b[39m \u001b[43mpredict_single_image\u001b[49m\u001b[43m(\u001b[49m\u001b[43mcheck_image_path\u001b[49m\u001b[43m,\u001b[49m\u001b[43m \u001b[49m\u001b[43mgrid_search\u001b[49m\u001b[38;5;241;43m.\u001b[39;49m\u001b[43mbest_estimator_\u001b[49m\u001b[43m,\u001b[49m\u001b[43m \u001b[49m\u001b[43mscaler\u001b[49m\u001b[43m)\u001b[49m\n\u001b[0;32m     10\u001b[0m \u001b[38;5;28mprint\u001b[39m(\u001b[38;5;124mf\u001b[39m\u001b[38;5;124m\"\u001b[39m\u001b[38;5;124mPredicted label for image \u001b[39m\u001b[38;5;132;01m{\u001b[39;00mcheck_image_path\u001b[38;5;132;01m}\u001b[39;00m\u001b[38;5;124m: \u001b[39m\u001b[38;5;132;01m{\u001b[39;00mpredicted_label\u001b[38;5;132;01m}\u001b[39;00m\u001b[38;5;124m\"\u001b[39m)\n",
      "Cell \u001b[1;32mIn[18], line 3\u001b[0m, in \u001b[0;36mpredict_single_image\u001b[1;34m(image_path, model, scaler)\u001b[0m\n\u001b[0;32m      1\u001b[0m \u001b[38;5;28;01mdef\u001b[39;00m \u001b[38;5;21mpredict_single_image\u001b[39m(image_path, model, scaler):\n\u001b[0;32m      2\u001b[0m     features \u001b[38;5;241m=\u001b[39m extract_glcm_features(image_path)\n\u001b[1;32m----> 3\u001b[0m     features \u001b[38;5;241m=\u001b[39m pd\u001b[38;5;241m.\u001b[39mDataFrame([features], columns\u001b[38;5;241m=\u001b[39m\u001b[43mfeature_names\u001b[49m)\n\u001b[0;32m      4\u001b[0m     features_scaled \u001b[38;5;241m=\u001b[39m scaler\u001b[38;5;241m.\u001b[39mtransform([features])\n\u001b[0;32m      5\u001b[0m     prediction \u001b[38;5;241m=\u001b[39m model\u001b[38;5;241m.\u001b[39mpredict(features_scaled)\n",
      "\u001b[1;31mNameError\u001b[0m: name 'feature_names' is not defined"
     ]
    }
   ],
   "source": [
    "\n",
    "def predict_single_image(image_path, model, scaler):\n",
    "    features = extract_glcm_features(image_path)\n",
    "    features_scaled = scaler.transform([features])\n",
    "    prediction = model.predict(features_scaled)\n",
    "    return prediction\n",
    "\n",
    "check_image_path = 'ToCheck/u.jpg'\n",
    "predicted_label = predict_single_image(check_image_path, grid_search.best_estimator_, scaler)\n",
    "print(f\"Predicted label for image {check_image_path}: {predicted_label}\")"
   ]
  },
  {
   "cell_type": "code",
   "execution_count": 15,
   "id": "2cc6769a",
   "metadata": {},
   "outputs": [
    {
     "name": "stdout",
     "output_type": "stream",
     "text": [
      "Model saved to knn_model.joblib\n",
      "Scaler saved to scaler.joblib\n"
     ]
    }
   ],
   "source": [
    "from joblib import dump, load\n",
    "\n",
    "# Save the trained model and scaler\n",
    "model_filename = 'knn_model.joblib'\n",
    "scaler_filename = 'scaler.joblib'\n",
    "\n",
    "dump(grid_search.best_estimator_, model_filename)\n",
    "dump(scaler, scaler_filename)\n",
    "\n",
    "print(f\"Model saved to {model_filename}\")\n",
    "print(f\"Scaler saved to {scaler_filename}\")"
   ]
  },
  {
   "cell_type": "code",
   "execution_count": null,
   "id": "b0c8355f",
   "metadata": {},
   "outputs": [],
   "source": []
  }
 ],
 "metadata": {
  "kernelspec": {
   "display_name": "Python 3 (ipykernel)",
   "language": "python",
   "name": "python3"
  },
  "language_info": {
   "codemirror_mode": {
    "name": "ipython",
    "version": 3
   },
   "file_extension": ".py",
   "mimetype": "text/x-python",
   "name": "python",
   "nbconvert_exporter": "python",
   "pygments_lexer": "ipython3",
   "version": "3.12.3"
  }
 },
 "nbformat": 4,
 "nbformat_minor": 5
}
